{
 "metadata": {
  "name": "",
  "signature": "sha256:e76a9b1b6489a486ad8b87890a9af7775bf393a425fefe99d7da9e3b6ab23ac7"
 },
 "nbformat": 3,
 "nbformat_minor": 0,
 "worksheets": [
  {
   "cells": [
    {
     "cell_type": "code",
     "collapsed": false,
     "input": [
      "import numpy as np\n",
      "import matplotlib.pyplot as plt\n",
      "%matplotlib inline"
     ],
     "language": "python",
     "metadata": {},
     "outputs": [],
     "prompt_number": 1
    },
    {
     "cell_type": "code",
     "collapsed": false,
     "input": [
      "# discretization\n",
      "size = 100.0\n",
      "dx = 2./size\n",
      "T = 10.0\n",
      "dt = .9 * dx**2/2   # for stability condition\n",
      "N = int(T/dt)"
     ],
     "language": "python",
     "metadata": {},
     "outputs": [],
     "prompt_number": 2
    },
    {
     "cell_type": "markdown",
     "metadata": {},
     "source": [
      "Differential equation: Simple 1D diffusion\n",
      "$$ \\frac{\\partial u}{\\partial t} = D_u \\frac{\\partial^2 u}{\\partial x^2} $$\n"
     ]
    },
    {
     "cell_type": "code",
     "collapsed": false,
     "input": [
      "# second differential using finite differnces\n",
      "def diffTwo(Z):\n",
      "    Zcenter = Z[1:-1]\n",
      "    Zleft = Z[:-2]\n",
      "    Zright = Z[2:]\n",
      "    return (Zleft - 2*Zcenter + Zright) / dx**2"
     ],
     "language": "python",
     "metadata": {},
     "outputs": [],
     "prompt_number": 3
    },
    {
     "cell_type": "code",
     "collapsed": false,
     "input": [
      "#u0 = np.arange(size)[::-1]/size   # initialise 1D variable as linear gradient\n",
      "#u =  u0.copy()\n",
      "#Du = .01   # diffusion coefficient\n",
      "\n",
      "#def gaussian(x, mu, sig):\n",
      "#    return 1./(np.sqrt(2.*np.pi)*sig)*np.exp(-np.power((x - mu)/sig, 2.)/2)\n",
      "#u0 = gaussian(np.arange(size)/size, 0.5, 0.1)\n",
      "#u = u0.copy()\n",
      "#Du = 0.008\n",
      "\n",
      "#u0 = np.zeros(size) # for erfc solution\n",
      "#u0[0:20] = 1.\n",
      "#u = u0.copy()\n",
      "#Du = 0.001"
     ],
     "language": "python",
     "metadata": {},
     "outputs": [],
     "prompt_number": 108
    },
    {
     "cell_type": "code",
     "collapsed": false,
     "input": [
      "# simulate\n",
      "for n in range(N):\n",
      "    u[1:-1] += dt * Du * diffTwo(u)\n",
      "    # Neumann coditions:\n",
      "    u[0] = u[1]\n",
      "    u[-1] = u[-2]"
     ],
     "language": "python",
     "metadata": {},
     "outputs": [],
     "prompt_number": 106
    },
    {
     "cell_type": "code",
     "collapsed": false,
     "input": [
      "plt.plot(u0);\n",
      "plt.plot(u);"
     ],
     "language": "python",
     "metadata": {},
     "outputs": [
      {
       "metadata": {},
       "output_type": "display_data",
       "png": "[encoded data removed]",
       "text": [
        "<matplotlib.figure.Figure at 0x7fcb30bfa1d0>"
       ]
      }
     ],
     "prompt_number": 107
    },
    {
     "cell_type": "code",
     "collapsed": false,
     "input": [],
     "language": "python",
     "metadata": {},
     "outputs": []
    },
    {
     "cell_type": "code",
     "collapsed": false,
     "input": [],
     "language": "python",
     "metadata": {},
     "outputs": []
    }
   ],
   "metadata": {}
  }
 ]
}