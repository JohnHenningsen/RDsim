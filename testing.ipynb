{
 "metadata": {
  "name": "",
  "signature": "sha256:0d8fa506b4cd440f4c0ff5a4a5d6927a0a3b97a6f83bce77a9403361db86e1ca"
 },
 "nbformat": 3,
 "nbformat_minor": 0,
 "worksheets": [
  {
   "cells": [
    {
     "cell_type": "code",
     "collapsed": false,
     "input": [
      "import numpy as np\n",
      "import matplotlib.pyplot as plt\n",
      "%matplotlib inline"
     ],
     "language": "python",
     "metadata": {},
     "outputs": [],
     "prompt_number": 1
    },
    {
     "cell_type": "code",
     "collapsed": false,
     "input": [
      "# discretization\n",
      "size = 100.0\n",
      "dx = 2./size\n",
      "T = 10.0\n",
      "dt = .9 * dx**2/2   # for stability\n",
      "N = int(T/dt)"
     ],
     "language": "python",
     "metadata": {},
     "outputs": [],
     "prompt_number": 33
    },
    {
     "cell_type": "markdown",
     "metadata": {},
     "source": [
      "Differential equation: Simple 1D diffusion\n",
      "$$ \\frac{\\partial u}{\\partial t} = D_u \\frac{\\partial^2 u}{\\partial x^2} $$\n"
     ]
    },
    {
     "cell_type": "code",
     "collapsed": false,
     "input": [
      "u = np.arange(size)[::-1]/size   # initialise 1D variable as linear gradient\n",
      "Du = 0.1   # diffusion coefficient\n",
      "\n",
      "# second differential using finite differnces\n",
      "def diffTwo(Z):\n",
      "    Zcenter = Z[1:-1]\n",
      "    Zleft = Z[:-2]\n",
      "    Zright = Z[2:]\n",
      "    return (Zleft - 2*Zcenter + Zright) / dx**2"
     ],
     "language": "python",
     "metadata": {},
     "outputs": [],
     "prompt_number": 52
    },
    {
     "cell_type": "code",
     "collapsed": false,
     "input": [
      "# simulate\n",
      "for n in range(N):\n",
      "    u[1:-1] = Da * diffTwo(u)\n",
      "    # Neumann coditions:\n",
      "    u[0] = u[1]\n",
      "    u[-1] = u[-2]"
     ],
     "language": "python",
     "metadata": {},
     "outputs": [
      {
       "output_type": "stream",
       "stream": "stderr",
       "text": [
        "-c:9: RuntimeWarning: invalid value encountered in add\n"
       ]
      }
     ],
     "prompt_number": 53
    },
    {
     "cell_type": "code",
     "collapsed": false,
     "input": [
      "u[1:-1].size"
     ],
     "language": "python",
     "metadata": {},
     "outputs": [
      {
       "metadata": {},
       "output_type": "pyout",
       "prompt_number": 49,
       "text": [
        "98"
       ]
      }
     ],
     "prompt_number": 49
    },
    {
     "cell_type": "code",
     "collapsed": false,
     "input": [],
     "language": "python",
     "metadata": {},
     "outputs": []
    }
   ],
   "metadata": {}
  }
 ]
}