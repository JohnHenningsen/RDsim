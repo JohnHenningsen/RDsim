{
 "metadata": {
  "name": "",
  "signature": "sha256:64307b5e49b3e50f7e85c7bbb9d855de7c5d4933575ed74828610d79e5d44123"
 },
 "nbformat": 3,
 "nbformat_minor": 0,
 "worksheets": []
}