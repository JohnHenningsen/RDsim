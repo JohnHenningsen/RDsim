{
 "cells": [
  {
   "cell_type": "markdown",
   "metadata": {},
   "source": [
    "Reaction diffusion system simulation: Test version adapted from Ipython Interactive Computing and Visualization Cookbook"
   ]
  },
  {
   "cell_type": "code",
   "execution_count": 26,
   "metadata": {
    "collapsed": false
   },
   "outputs": [],
   "source": [
    "import numpy as np\n",
    "import matplotlib.pyplot as plt\n",
    "%matplotlib inline"
   ]
  },
  {
   "cell_type": "code",
   "execution_count": 128,
   "metadata": {
    "collapsed": false
   },
   "outputs": [],
   "source": [
    "# discretization\n",
    "size = 100.0\n",
    "dx = 2./size\n",
    "T = 10.0\n",
    "dt = .9 * dx**2/2   # for stability condition\n",
    "N = int(T/dt)"
   ]
  },
  {
   "cell_type": "code",
   "execution_count": 129,
   "metadata": {
    "collapsed": false
   },
   "outputs": [
    {
     "data": {
      "text/plain": [
       "0.02"
      ]
     },
     "execution_count": 129,
     "metadata": {},
     "output_type": "execute_result"
    }
   ],
   "source": [
    "dx/size*100"
   ]
  },
  {
   "cell_type": "code",
   "execution_count": 130,
   "metadata": {
    "collapsed": false
   },
   "outputs": [],
   "source": [
    "# second differential using finite differnces\n",
    "def diffTwo(Z):\n",
    "    Zcenter = Z[1:-1]\n",
    "    Zleft = Z[:-2]\n",
    "    Zright = Z[2:]\n",
    "    return (Zleft - 2*Zcenter + Zright) / dx**2"
   ]
  },
  {
   "cell_type": "markdown",
   "metadata": {},
   "source": [
    "Differential equation: Simple 1D diffusion\n",
    "$$ \\frac{\\partial u}{\\partial t} = D_u \\frac{\\partial^2 u}{\\partial x^2} $$\n"
   ]
  },
  {
   "cell_type": "code",
   "execution_count": 131,
   "metadata": {
    "collapsed": false
   },
   "outputs": [],
   "source": [
    "#u0 = np.arange(size)[::-1]/size   # initialise 1D variable as linear gradient\n",
    "#u =  u0.copy()\n",
    "#Du = .01   # diffusion coefficient\n",
    "\n",
    "def gaussian(x, mu, sig):\n",
    "    return 1./(np.sqrt(2.*np.pi)*sig)*np.exp(-np.power((x - mu)/sig, 2.)/2)\n",
    "u0 = gaussian(np.arange(size)/size, 0.5, 0.1)\n",
    "u = u0.copy()\n",
    "Du = 0.008\n",
    "\n",
    "#u0 = np.zeros(size) # for erfc solution\n",
    "#u0[0:20] = 1.\n",
    "#u = u0.copy()\n",
    "#Du = 0.001"
   ]
  },
  {
   "cell_type": "code",
   "execution_count": 132,
   "metadata": {
    "collapsed": false
   },
   "outputs": [],
   "source": [
    "# simulate\n",
    "for n in range(N):\n",
    "    u[1:-1] += dt * Du * diffTwo(u)\n",
    "    # Neumann coditions:\n",
    "    u[0] = u[1]\n",
    "    u[-1] = u[-2]"
   ]
  },
  {
   "cell_type": "code",
   "execution_count": 133,
   "metadata": {
    "collapsed": false
   },
   "outputs": [
    {
     "data": {
      "image/png": "[encoded data removed]",
      "text/plain": [
       "<matplotlib.figure.Figure at 0x7f6331cdced0>"
      ]
     },
     "metadata": {},
     "output_type": "display_data"
    }
   ],
   "source": [
    "plt.plot(u0);\n",
    "plt.plot(u);"
   ]
  },
  {
   "cell_type": "markdown",
   "metadata": {},
   "source": [
    "Differential equation: 2 component reaction diffusion\n",
    "$$ \\frac{\\partial a}{\\partial t} = D_a \\frac{\\partial^2 a}{\\partial x^2} - \\delta_a a$$\n",
    "$$ \\frac{\\partial g}{\\partial t} = \\frac{\\alpha_g \\cdot a^n}{K_a^n + a^n} - \\delta_g g $$\n",
    "a is the concentration of AHL, g is GFP"
   ]
  },
  {
   "cell_type": "code",
   "execution_count": 65,
   "metadata": {
    "collapsed": false
   },
   "outputs": [],
   "source": [
    "#a0 = np.zeros(size, dtype=np.float)\n",
    "#a0[0:20] = 1.\n",
    "a0 = gaussian(np.arange(size)/size, 0.5, 0.1)\n",
    "a = a0.copy()\n",
    "g0 = np.zeros(size, dtype=np.float)\n",
    "g = g0.copy()\n",
    "\n",
    "Da = 0.1\n",
    "delta_a = 0.01\n",
    "n = 5.\n",
    "Ka = 1.\n",
    "alpha_g = 10.0\n",
    "delta_g = 0.01"
   ]
  },
  {
   "cell_type": "code",
   "execution_count": 66,
   "metadata": {
    "collapsed": false
   },
   "outputs": [],
   "source": [
    "# simulate\n",
    "for n in range(N):\n",
    "    #exclude border values\n",
    "    ac = a[1:-1]\n",
    "    gc = g[1:-1]\n",
    "    #DGL\n",
    "    a[1:-1] += dt * (Da*diffTwo(a) - delta_a*ac)\n",
    "    g[1:-1] += dt * ((alpha_g * np.power(ac,n))/(np.power(Ka,n) + np.power(ac,n)) - delta_g*gc)\n",
    "    # Neumann coditions:\n",
    "    a[0] = a[1]\n",
    "    a[-1] = a[-2]\n",
    "    g[0] = g[1]\n",
    "    g[-1] = g[-2]\n",
    "    i = n"
   ]
  },
  {
   "cell_type": "code",
   "execution_count": 69,
   "metadata": {
    "collapsed": false
   },
   "outputs": [
    {
     "data": {
      "text/plain": [
       "[<matplotlib.lines.Line2D at 0x7f63351994d0>]"
      ]
     },
     "execution_count": 69,
     "metadata": {},
     "output_type": "execute_result"
    },
    {
     "data": {
      "image/png": "[encoded data removed]",
      "text/plain": [
       "<matplotlib.figure.Figure at 0x7f6335199310>"
      ]
     },
     "metadata": {},
     "output_type": "display_data"
    }
   ],
   "source": [
    "plt.plot(g0)\n",
    "plt.plot(g)"
   ]
  },
  {
   "cell_type": "code",
   "execution_count": 63,
   "metadata": {
    "collapsed": false
   },
   "outputs": [
    {
     "data": {
      "text/plain": [
       "[<matplotlib.lines.Line2D at 0x7f6335402350>]"
      ]
     },
     "execution_count": 63,
     "metadata": {},
     "output_type": "execute_result"
    },
    {
     "data": {
      "image/png": "[encoded data removed]",
      "text/plain": [
       "<matplotlib.figure.Figure at 0x7f6335402310>"
      ]
     },
     "metadata": {},
     "output_type": "display_data"
    }
   ],
   "source": [
    "plt.plot(a0)\n",
    "plt.plot(a)"
   ]
  },
  {
   "cell_type": "code",
   "execution_count": null,
   "metadata": {
    "collapsed": false
   },
   "outputs": [],
   "source": []
  }
 ],
 "metadata": {
  "anaconda-cloud": {},
  "kernelspec": {
   "display_name": "Python [default]",
   "language": "python",
   "name": "python3"
  },
  "language_info": {
   "codemirror_mode": {
    "name": "ipython",
    "version": 3
   },
   "file_extension": ".py",
   "mimetype": "text/x-python",
   "name": "python",
   "nbconvert_exporter": "python",
   "pygments_lexer": "ipython3",
   "version": "3.5.2"
  }
 },
 "nbformat": 4,
 "nbformat_minor": 0
}
