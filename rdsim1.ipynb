{
 "metadata": {
  "name": "",
  "signature": "sha256:77512f6fffa9c24a9db8c59755340c5c2190f9eb2171a443fc473dd6b3335ddf"
 },
 "nbformat": 3,
 "nbformat_minor": 0,
 "worksheets": [
  {
   "cells": [
    {
     "cell_type": "markdown",
     "metadata": {},
     "source": [
      "Reaction diffusion system simulation: Version using partial differences spatial discretization (1st order) and ode-solver"
     ]
    },
    {
     "cell_type": "code",
     "collapsed": false,
     "input": [],
     "language": "python",
     "metadata": {},
     "outputs": []
    }
   ],
   "metadata": {}
  }
 ]
}