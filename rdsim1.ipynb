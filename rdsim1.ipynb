{
 "metadata": {
  "name": "",
  "signature": "sha256:f1632809fc7d3b443c5f4cf8f8dbb2bcf5d9b93d333c03cde33c6d7d3bacd165"
 },
 "nbformat": 3,
 "nbformat_minor": 0,
 "worksheets": [
  {
   "cells": [
    {
     "cell_type": "markdown",
     "metadata": {},
     "source": [
      "Reaction diffusion system simulation: Version using partial differences spatial discretization (1st "
     ]
    },
    {
     "cell_type": "code",
     "collapsed": false,
     "input": [],
     "language": "python",
     "metadata": {},
     "outputs": []
    }
   ],
   "metadata": {}
  }
 ]
}